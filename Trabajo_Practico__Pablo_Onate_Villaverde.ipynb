{
  "cells": [
    {
      "cell_type": "markdown",
      "metadata": {
        "id": "view-in-github",
        "colab_type": "text"
      },
      "source": [
        "<a href=\"https://colab.research.google.com/github/AeroPablete/MIAR03-Algoritmos-de-optimizacion-2023-2024/blob/main/Trabajo_Practico__Pablo_Onate_Villaverde.ipynb\" target=\"_parent\"><img src=\"https://colab.research.google.com/assets/colab-badge.svg\" alt=\"Open In Colab\"/></a>"
      ]
    },
    {
      "cell_type": "markdown",
      "metadata": {
        "id": "hVbXYX-RfPWh"
      },
      "source": [
        "# Algoritmos de optimización - Trabajo Práctico\n",
        "\n",
        "Nombre y Apellidos: Pablo Javier Oñate Villaverde<br>\n",
        "Url: https://github.com/AeroPablete/MIAR03-Algoritmos-de-optimizacion-2023-2024/blob/main/Trabajo_Practico__Pablo_Onate_Villaverde.ipynb<br>\n",
        "Google Colab: https://colab.research.google.com/drive/1QysLaz9hjPdtAjGqwAzGddz7Z4bG0csk?usp=sharing <br>\n",
        "Problema:\n",
        ">2. Organizar los horarios de partidos de La Liga<br>\n",
        "\n",
        "`Descripción del problema:`)     "
      ]
    },
    {
      "cell_type": "markdown",
      "metadata": {
        "id": "UtGotJ6MperV"
      },
      "source": [
        "Desde la La Liga de fútbol profesional se pretende organizar los horarios de los partidos de\n",
        "liga de cada jornada. Se conocen algunos datos que nos deben llevar a diseñar un\n",
        "algoritmo que realice la asignación de los partidos a los horarios de forma que **maximice la\n",
        "audiencia.**\n",
        "\n",
        "Los horarios disponibles se conocen a priori y son los siguientes:\n",
        "\n",
        "<table>\n",
        "    <tbody>\n",
        "        <tr>\n",
        "            <td>Viernes</td>\n",
        "            <td>20</td>\n",
        "        </tr>\n",
        "        <tr>\n",
        "            <td>Sábado</td>\n",
        "            <td>12, 16, 18, 20</td>\n",
        "        </tr>\n",
        "        <tr>\n",
        "            <td>Domingo</td>\n",
        "            <td>12, 16, 18, 20</td>\n",
        "        </tr>\n",
        "        <tr>\n",
        "            <td>Lunes</td>\n",
        "            <td>20</td>\n",
        "        </tr>\n",
        "    </tbody>\n",
        "</table>"
      ]
    },
    {
      "cell_type": "markdown",
      "metadata": {
        "id": "Ynf_s4a5perW"
      },
      "source": [
        "En primer lugar se clasifican los equipos en tres categorías según el numero de\n",
        "seguidores( que tiene relación directa con la audiencia). Hay 3 equipos en la\n",
        "categoría A, 11 equipos de categoría B y 6 equipos de categoría C\n",
        "\n",
        "Se conoce estadísticamente la audiencia que genera cada partido según los equipos\n",
        "que se enfrentan y en horario de sábado a las 20h (el mejor en todos los casos)\n",
        "\n",
        "|             | Categoría A | Categoría B  | Categoría C   |\n",
        "|-------------|-------------|--------------|---------------|\n",
        "| Categoría A | 2 Millones  | 1,3 Millones | 1 Millones    |\n",
        "| Categoría B |             | 0,9 Millones | 0,75 Millones |\n",
        "| Categoría C |             |              | 0,47 Millones |"
      ]
    },
    {
      "cell_type": "markdown",
      "metadata": {
        "id": "z86BpNtBperW"
      },
      "source": [
        "Si el horario del partido no se realiza a las 20 horas del sábado se sabe que se reduce\n",
        "según los coeficientes de la siguiente tabl\n",
        "\n",
        "Debemos asignar obligatoriamente siempre un partido el viernes y un partido el lunes\n",
        "\n",
        "|     | Viernes | Sábado | Domingo | Lunes |\n",
        "|-----|---------|--------|---------|-------|\n",
        "| 12h | -       | 0,55   | 0,45    | -     |\n",
        "| 16h | -       | 0,7    | 0,75    | -     |\n",
        "| 18h | -       | 0,8    | 0,85    | -     |\n",
        "| 20h | 0,4     | 1      | 1       | 0,4   |a"
      ]
    },
    {
      "cell_type": "markdown",
      "metadata": {
        "id": "euObyyjWperW"
      },
      "source": [
        "Es posible la coincidencia de horarios pero en este\n",
        "caso la audiencia de cada partido se verá afectada y\n",
        "se estima que se reduce en porcentaje según la\n",
        "siguiente tabla dependiendo del número de\n",
        "coincidenc\n",
        "\n",
        "| Coincidencias | -%  |\n",
        "|---------------|-----|\n",
        "| 0             | 0%  |\n",
        "| 1             | 25% |\n",
        "| 2             | 45% |\n",
        "| 3             | 60% |\n",
        "| 4             | 70% |\n",
        "| 5             | 75% |\n",
        "| 6             | 78% |\n",
        "| 7             | 80% |\n",
        "| 8             | 80% |ias:"
      ]
    },
    {
      "cell_type": "markdown",
      "metadata": {
        "id": "Sbo9IqQtpaHZ"
      },
      "source": [
        "## Modelo"
      ]
    },
    {
      "cell_type": "markdown",
      "metadata": {
        "id": "9LCFg8vyperX"
      },
      "source": [
        "*Nota Bene*: Para comodidad del lector se ha agrupado todo el código en el apartado `Diseño`. Dicho código contiene numerosos comentarios para ayudar a la comprensión del mismo, razón por la cual se referenciará el mismo en numerosas ocasiones."
      ]
    },
    {
      "cell_type": "markdown",
      "metadata": {
        "id": "AiskKkzZfy4e"
      },
      "source": [
        "- **¿Cómo represento el espacio de soluciones?**"
      ]
    },
    {
      "cell_type": "markdown",
      "metadata": {
        "id": "qly7DyDRperX"
      },
      "source": [
        "El objetivo de este problema es diseñar un algoritmo que construya la jornada de liga, que es una *colección* de partidos. En cualquier lenguaje de programación, y en especial en Python, la forma más sencilla de representar este tipo de colecciones es por una *lista*."
      ]
    },
    {
      "cell_type": "markdown",
      "metadata": {
        "id": "R4oq3sNiperX"
      },
      "source": [
        "Por otro lado, para tener perfectamente definido un partido necesitamos los datos siguientes:\n",
        "- los dos equipos que se enfrentan\n",
        "- el horario del mismo\n",
        "\n",
        "Representaremos un partido (en Python) como un *diccionario* con los campos o atributos siguientes:\n",
        "- un atributo *teams* que es una tupla de números enteros. Cada uno de esos números es una referencia o clave del diccionario definido en el apartado `Diseño >> Carga de los datos del problema >> TEAMS_DB`.\n",
        "- Un atributo *date* en el que se codifica mediante una determinada cadena de caracteres el horario del partido. Dicha codificación se detalla a continuación:\n",
        "\n",
        "| Código | Horario del partido |\n",
        "|--------|---------------------|\n",
        "| V20    | Viernes a las 20H   |\n",
        "| S12    | Sábado a las 12H    |\n",
        "| S16    | Sábado a las 16H    |\n",
        "| S18    | Sábado a las 18H    |\n",
        "| S20    | Sábado a las 20H    |\n",
        "| D12    | Domingo a las 12H   |\n",
        "| D16    | Domingo a las 16H   |\n",
        "| D18    | Domingo a las 18H   |\n",
        "| D20    | Domingo a las 20H   |\n",
        "| L20    | Lunes a las 20H     |"
      ]
    },
    {
      "cell_type": "markdown",
      "metadata": {
        "id": "kmHDZ3EOperX"
      },
      "source": [
        "En definitiva, un ejemplo de solución al problema es la siguiente\n",
        "\n",
        "```python\n",
        "solucion = [\n",
        "    {'teams': (1,2), 'date': 'V20'},\n",
        "    {'teams': (3,4), 'date': 'S12'},\n",
        "    {'teams': (5,6), 'date': 'S16'},\n",
        "    {'teams': (7,8), 'date': 'S18'},\n",
        "    {'teams': (9,10), 'date': 'S20'},\n",
        "    {'teams': (11,12), 'date': 'D12'},\n",
        "    {'teams': (13,14), 'date': 'D16'},\n",
        "    {'teams': (15,16), 'date': 'D18'},\n",
        "    {'teams': (17,18), 'date': 'D20'},\n",
        "    {'teams': (19,20), 'date': 'L20'}\n",
        "]\n",
        "```"
      ]
    },
    {
      "cell_type": "markdown",
      "metadata": {
        "id": "bIdpSuGPperX"
      },
      "source": [
        "- **¿Cúal es la función objetivo?**"
      ]
    },
    {
      "cell_type": "markdown",
      "metadata": {
        "id": "hDKVtJ4GperY"
      },
      "source": [
        "La función objetivo se encuentra debidamente codificada y comentada en el apartado `Diseño >> Función objetivo >> compute_match_week_audience`"
      ]
    },
    {
      "cell_type": "markdown",
      "metadata": {
        "id": "9lid0V4tperY"
      },
      "source": [
        "El objetivo del problema es encontrar la jornada de partidos que *maxiza* la audiencia estimada. La audiencia de una jornada se define de la manera siguiente:\n",
        "\n",
        "$$\n",
        "audiencia_{jornada}=\\sum_{i=1}^{10}audiencia_{partido-i}\n",
        "$$"
      ]
    },
    {
      "cell_type": "markdown",
      "metadata": {
        "id": "24qjAC70perY"
      },
      "source": [
        "En el cálculo de la audiencia de un partido entran en juego tres variables:\n",
        "- `Diseño >> Carga de los datos del problema >> BASE_AUDIENCE_DB`, una audiencia 'base' que depende de la categoría de los equipos y que resulta ser una estimación de la audiencia que tendría el partido de disputarse un sábado a las 20H (franja de máxima audiencia)\n",
        "- `Diseño >> Carga de los datos del problema >> MATCH_DATE_PENALTY_DB`, una penalización (en %) debido al hecho de que el partido puede no haber sido planificado en las franjas de máxima audiencia (sábado o domingo a las 20H)\n",
        "- `Diseño >> Carga de los datos del problema >> SAME_DATE_PENALTY_DB`, una penalización (en %) debido al hecho de que varios partidos pueden haber sido planificados en la misma franja horaria 'obligando' al espectador a elegir cual ver."
      ]
    },
    {
      "cell_type": "markdown",
      "metadata": {
        "id": "UpU8ozp7perY"
      },
      "source": [
        "En definitiva, y respetando la nomenclatura definida previamente, la audiencia estimada para un partido puede calcularse como\n",
        "\n",
        "$$\n",
        "audiencia = base\\_audience*match\\_date\\_penalty*(1-same\\_date\\_penalty)\n",
        "$$"
      ]
    },
    {
      "cell_type": "markdown",
      "metadata": {
        "id": "r1vg0hZCperY"
      },
      "source": [
        "- **¿Cómo implemento las restricciones?**"
      ]
    },
    {
      "cell_type": "markdown",
      "metadata": {
        "id": "ljKtD9WJperY"
      },
      "source": [
        "Para facilitar la tarea, se recupera el ejemplo de candidata a solución óptima presentada anteriormente:\n",
        "\n",
        "```python\n",
        "solucion = [\n",
        "    {'teams': (1,2), 'date': 'V20'},\n",
        "    {'teams': (3,4), 'date': 'S12'},\n",
        "    {'teams': (5,6), 'date': 'S16'},\n",
        "    {'teams': (7,8), 'date': 'S18'},\n",
        "    {'teams': (9,10), 'date': 'S20'},\n",
        "    {'teams': (11,12), 'date': 'D12'},\n",
        "    {'teams': (13,14), 'date': 'D16'},\n",
        "    {'teams': (15,16), 'date': 'D18'},\n",
        "    {'teams': (17,18), 'date': 'D20'},\n",
        "    {'teams': (19,20), 'date': 'L20'}\n",
        "]\n",
        "```"
      ]
    },
    {
      "cell_type": "markdown",
      "metadata": {
        "id": "M-v_Z4L3perZ"
      },
      "source": [
        "- Restricción 1: Una jornada está compuesta por 10 partidos, es decir la variable *solución* ha de ser una lista que contenga exactamente 10 elementos.\n",
        "- Restricción 2: Un partido lo juegan 2 equipos, es decir el atributo *teams* de cada uno de los diccionarios que representa un partido corresponde a una tupla de exactamente dos elementos.\n",
        "- Restricción 3: Un equipo no puede disputar varios partidos en una misma jornada, es decir los *índices* (por ejemplo (2,3)) que representan los equipos no pueden estar repetidos en una mismo objeto solución.\n",
        "- Restricción 4: Los partidos han de disputarse en las franjas horarias planteadas en el enunciado, es decir el valor del atributo *date* para cada uno de los partidos ha de ser uno de los siguientes {'V20', 'S12', 'S16', 'S18', 'S20', 'D12', 'D16', 'D18', 'D20', 'L20'}\n",
        "- Restricción 5: Se debe asignar siempre un partido el viernes, es decir sólo un elemento de la lista *solución* puede tener su atributo *date* igual a 'V20'\n",
        "- Restricción 6: Se debe asignar siempre un partido el lunes, es decir sólo un elemento de la lista solución puede tener su atributo date igual a 'L20'"
      ]
    },
    {
      "cell_type": "markdown",
      "metadata": {
        "id": "4A7wZR5TperZ"
      },
      "source": [
        "En definitiva, el ejemplo de candidata a solución óptima presentada anteriormente es perfectamente válida."
      ]
    },
    {
      "cell_type": "markdown",
      "metadata": {
        "id": "HZz52wOppp-U"
      },
      "source": [
        "## Análisis\n",
        "- **¿Que complejidad tiene el problema?. Orden de complejidad y Contabilizar el espacio de soluciones**"
      ]
    },
    {
      "cell_type": "markdown",
      "metadata": {
        "id": "WWF5eqaLperZ"
      },
      "source": [
        "Para proceder al conteo de las posibles soluciones del problema se procederá en dos etapas:\n",
        "- En la primera, se busca determinar de cuántas formas se pueden generar los enfrentamientos entre los equipos, es decir una jornada.\n",
        "- En la segunda, dada una jornada (es decir los 10 enfrentamientos ya definidos) se busca determinar de cuántas formas se pueden asignar horarios a dichos partidos."
      ]
    },
    {
      "cell_type": "markdown",
      "metadata": {
        "id": "5Dllto-KperZ"
      },
      "source": [
        "#### Generación de una jornada"
      ]
    },
    {
      "cell_type": "markdown",
      "metadata": {
        "id": "LG66f2sTperZ"
      },
      "source": [
        "Se realizará el cálculo partido a partido."
      ]
    },
    {
      "cell_type": "markdown",
      "metadata": {
        "id": "CZ-5BmpspttV"
      },
      "source": [
        "Para el *primero* de ellos, dado que no se diferencia entre equipo local de equipo visitante, se trata de una combinación de 20 elementos tomados de dos en dos:\n",
        "\n",
        "$$\n",
        "C^{2}_{20}=\\frac{20!}{2!(20-2)!} = \\frac{20*19}{2}=190\n",
        "$$"
      ]
    },
    {
      "cell_type": "markdown",
      "metadata": {
        "id": "ih0WgdPFpera"
      },
      "source": [
        "Para el *segundo* partido, se trata de una combinación de $20-2=18$ elementos tomados de nuevo de dos en dos:\n",
        "$$\n",
        "C^{2}_{18}=\\frac{18!}{2!(18-2)!} = \\frac{18*17}{2}=153\n",
        "$$"
      ]
    },
    {
      "cell_type": "markdown",
      "metadata": {
        "id": "slDEh2wrpera"
      },
      "source": [
        "Para el *tercer* partido, se trata de una combinación de $18-2=16$ elementos tomados de dos en dos:\n",
        "$$\n",
        "C^{2}_{16}=\\frac{16!}{2!(16-2)!} = \\frac{16*15}{2}=120\n",
        "$$"
      ]
    },
    {
      "cell_type": "markdown",
      "metadata": {
        "id": "2iceobbGpera"
      },
      "source": [
        "Para el *cuarto* partido, se trata de una combinación de $16-2=14$ elementos tomados de dos en dos:\n",
        "$$\n",
        "C^{2}_{14}=\\frac{14!}{2!(14-2)!} = \\frac{14*13}{2}=91\n",
        "$$"
      ]
    },
    {
      "cell_type": "markdown",
      "metadata": {
        "id": "B7wq5UYUpera"
      },
      "source": [
        "Para el *quinto* partido, se trata de una combinación de $14-2=12$ elementos tomados de dos en dos:\n",
        "$$\n",
        "C^{2}_{12}=\\frac{12!}{2!(12-2)!} = \\frac{12*11}{2}=66\n",
        "$$"
      ]
    },
    {
      "cell_type": "markdown",
      "metadata": {
        "id": "n8lk8Jlypera"
      },
      "source": [
        "Para el *sexto* partido, se trata de una combinación de $12-2=10$ elementos tomados de dos en dos:\n",
        "$$\n",
        "C^{2}_{10}=\\frac{10!}{2!(10-2)!} = \\frac{10*9}{2}=45\n",
        "$$"
      ]
    },
    {
      "cell_type": "markdown",
      "metadata": {
        "id": "QllPiKzNpera"
      },
      "source": [
        "Para el *séptimo* partido, se trata de una combinación de $10-2=8$ elementos tomados de dos en dos:\n",
        "$$\n",
        "C^{2}_{8}=\\frac{8!}{2!(8-2)!} = \\frac{8*7}{2}=28\n",
        "$$"
      ]
    },
    {
      "cell_type": "markdown",
      "metadata": {
        "id": "dDDI_wfwperb"
      },
      "source": [
        "Para el *octavo* partido, se trata de una combinación de $8-2=6$ elementos tomados de dos en dos:\n",
        "$$\n",
        "C^{2}_{6}=\\frac{6!}{2!(6-2)!} = \\frac{6*5}{2}=15\n",
        "$$"
      ]
    },
    {
      "cell_type": "markdown",
      "metadata": {
        "id": "F05QUHbEperb"
      },
      "source": [
        "Para el *noveno* partido, se trata de una combinación de $6-2=4$ elementos tomados de dos en dos:\n",
        "$$\n",
        "C^{2}_{4}=\\frac{4!}{2!(4-2)!} = \\frac{4*3}{2}=6\n",
        "$$"
      ]
    },
    {
      "cell_type": "markdown",
      "metadata": {
        "id": "dpTvcZl2perb"
      },
      "source": [
        "Para el *décimo* partido, se trata de una combinación de $4-2=2$ elementos tomados de dos en dos:\n",
        "$$\n",
        "C^{2}_{2}=\\frac{2!}{2!(2-2)!} = \\frac{2*1}{2}=1\n",
        "$$"
      ]
    },
    {
      "cell_type": "markdown",
      "metadata": {
        "id": "pY3G_mD8perb"
      },
      "source": [
        "Por lo tanto, el `número total de formas distintas de generar una jornada de 10 partidos` es $190*153*120*91*66*45*28*15*6*1=2.3758809*10^{15}$"
      ]
    },
    {
      "cell_type": "markdown",
      "metadata": {
        "id": "YDEgT4NJperb"
      },
      "source": [
        "#### Asignación de horarios"
      ]
    },
    {
      "cell_type": "markdown",
      "metadata": {
        "id": "IKGna_c-perb"
      },
      "source": [
        "Dada una jornada (es decir los 10 enfrentamientos entre equipos), se busca determinar ahora de cuántas formas distintas es posible aisgnar un horario a cada uno de los partidos."
      ]
    },
    {
      "cell_type": "markdown",
      "metadata": {
        "id": "xuYa-K-Dperb"
      },
      "source": [
        "Considérese la siguiente tabla en la que cada casilla representa un *partido* de la jornada, y el número en su interior representa el *número de horarios* que podemos asignar a cada partido.\n",
        "\n",
        "<table>\n",
        "    <thead>\n",
        "        <tr>\n",
        "            <th>1 Partido</th>\n",
        "            <th>2 Partido</th>\n",
        "            <th>3 Partido</th>\n",
        "            <th>4 Partido</th>\n",
        "            <th>5 Partido</th>\n",
        "            <th>6 Partido</th>\n",
        "            <th>7 Partido</th>\n",
        "            <th>8 Partido</th>\n",
        "            <th>9 Partido</th>\n",
        "            <th>10 partido</th>\n",
        "        </tr>\n",
        "    </thead>\n",
        "    <tbody>\n",
        "        <tr>\n",
        "            <td style=\"text-align: center\">1</td>\n",
        "            <td style=\"text-align: center\">1</td>\n",
        "            <td style=\"text-align: center\">8</td>\n",
        "            <td style=\"text-align: center\">8</td>\n",
        "            <td style=\"text-align: center\">8</td>\n",
        "            <td style=\"text-align: center\">8</td>\n",
        "            <td style=\"text-align: center\">8</td>\n",
        "            <td style=\"text-align: center\">8</td>\n",
        "            <td style=\"text-align: center\">8</td>\n",
        "            <td style=\"text-align: center\">8</td>\n",
        "        </tr>\n",
        "    </tbody>\n",
        "</table>\n",
        "\n",
        "Fijados pues los partidos del viernes y del lunes (el primero y el segundo) para cumplir con las restricciones del problema, se dispone de 8 horarios para cada uno de los otros encuentros. Es decir, el número de asignaciones de horarios posibles en este caso es:\n",
        "$$\n",
        "1*1*8^{8}=16777216\n",
        "$$"
      ]
    },
    {
      "cell_type": "markdown",
      "metadata": {
        "id": "7M2pRXc6perb"
      },
      "source": [
        "Por otro lado, determinar de cúantas formas es posible asignar los horarios del viernes y el lunes se reduce a una combinación de $10$ elementos tomados de dos en dos:\n",
        "$$\n",
        "C^{2}_{10}=\\frac{10!}{2!(10-2)!} = \\frac{10*9}{2}=45\n",
        "$$"
      ]
    },
    {
      "cell_type": "markdown",
      "metadata": {
        "id": "39qvwxrapero"
      },
      "source": [
        "`La asignación de horarios (respetando las restricciones del problema) a una jornada ya definida` se puede hacer pues de $16777216*45=754974720$ formas diferentes."
      ]
    },
    {
      "cell_type": "markdown",
      "metadata": {
        "id": "EaSZQ7-ypero"
      },
      "source": [
        "#### Evaluación del número de soluciones del problema"
      ]
    },
    {
      "cell_type": "markdown",
      "metadata": {
        "id": "eaob6YLNpero"
      },
      "source": [
        "De acuerdo con lo expuesto en los dos apartados anteriores, el número de soluciones posibles al problema, respetando las restricciones del mismo es del orden de $10^{23}$."
      ]
    },
    {
      "cell_type": "markdown",
      "metadata": {
        "id": "ixEJUwH_pv7M"
      },
      "source": [
        "## Diseño\n",
        "- **¿Que técnica utilizo? ¿Por qué?**"
      ]
    },
    {
      "cell_type": "markdown",
      "metadata": {
        "id": "ZdKPjB9gp2BA"
      },
      "source": [
        "Dado el tamaño del espacio de búsqueda definido anteriormente, se decide utilizar una metaheurística como el *Recocido Simulado* (con multiarranque) para intentar encontrar una buena aproximación a la solución de este problema. La implementación de la misma se detalla a continuación."
      ]
    },
    {
      "cell_type": "markdown",
      "metadata": {
        "id": "qoEBLWpNpero"
      },
      "source": [
        "#### Carga de las librerías"
      ]
    },
    {
      "cell_type": "code",
      "execution_count": 1,
      "metadata": {
        "id": "JMuW1PBtpero"
      },
      "outputs": [],
      "source": [
        "from collections import Counter\n",
        "import math\n",
        "import pprint as pp\n",
        "import random\n",
        "import time"
      ]
    },
    {
      "cell_type": "markdown",
      "metadata": {
        "id": "_vybqiVCperp"
      },
      "source": [
        "#### Carga de los datos del problema"
      ]
    },
    {
      "cell_type": "markdown",
      "metadata": {
        "id": "l-x14S7Mperp"
      },
      "source": [
        "A continuación se procede a cargar los datos necesarios a la implementación del problema en forma de *diccionarios* en Python. Este tipo de estructuras *indexadas* permiten realizar búsquedas en ellas en tiempo $O(1)$"
      ]
    },
    {
      "cell_type": "markdown",
      "metadata": {
        "id": "R8FqHSEhperp"
      },
      "source": [
        "##### Equipos"
      ]
    },
    {
      "cell_type": "markdown",
      "metadata": {
        "id": "k02luAuzperp"
      },
      "source": [
        "Como se precisó en el apartado *Modelo*, los índices de este diccionario se utilizaran para referenciar los equipos cuando se construyan los partidos de una determinada jornada.\n",
        "\n",
        "```python\n",
        "match = {\n",
        "    'teams': (1,2),\n",
        "    'date': 'V20'\n",
        "}\n",
        "```"
      ]
    },
    {
      "cell_type": "code",
      "execution_count": 2,
      "metadata": {
        "id": "_RrMt8PGperp"
      },
      "outputs": [],
      "source": [
        "TEAMS_DB = {\n",
        "    1: { 'category': 'CAT-A', 'name': 'Team 1' },\n",
        "    2: { 'category': 'CAT-A', 'name': 'Team 2' },\n",
        "    3: { 'category': 'CAT-A', 'name': 'Team 3' },\n",
        "    4: { 'category': 'CAT-B', 'name': 'Team 4' },\n",
        "    5: { 'category': 'CAT-B', 'name': 'Team 5' },\n",
        "    6: { 'category': 'CAT-B', 'name': 'Team 6' },\n",
        "    7: { 'category': 'CAT-B', 'name': 'Team 7' },\n",
        "    8: { 'category': 'CAT-B', 'name': 'Team 8' },\n",
        "    9: { 'category': 'CAT-B', 'name': 'Team 9' },\n",
        "    10: { 'category': 'CAT-B', 'name': 'Team 10' },\n",
        "    11: { 'category': 'CAT-B', 'name': 'Team 11' },\n",
        "    12: { 'category': 'CAT-B', 'name': 'Team 12' },\n",
        "    13: { 'category': 'CAT-B', 'name': 'Team 13' },\n",
        "    14: { 'category': 'CAT-B', 'name': 'Team 14' },\n",
        "    15: { 'category': 'CAT-C', 'name': 'Team 15' },\n",
        "    16: { 'category': 'CAT-C', 'name': 'Team 16' },\n",
        "    17: { 'category': 'CAT-C', 'name': 'Team 17' },\n",
        "    18: { 'category': 'CAT-C', 'name': 'Team 18' },\n",
        "    19: { 'category': 'CAT-C', 'name': 'Team 19' },\n",
        "    20: { 'category': 'CAT-C', 'name': 'Team 20' }\n",
        "}"
      ]
    },
    {
      "cell_type": "markdown",
      "metadata": {
        "id": "xm_giZK7perp"
      },
      "source": [
        "##### Audiencias base de los partidos"
      ]
    },
    {
      "cell_type": "markdown",
      "metadata": {
        "id": "f-6zAIZwperq"
      },
      "source": [
        "En este caso los índices del diccionario están formados por tuplas que representan las categorías de los equipos."
      ]
    },
    {
      "cell_type": "code",
      "execution_count": 3,
      "metadata": {
        "id": "Tz0F4ULhperq"
      },
      "outputs": [],
      "source": [
        "BASE_AUDIENCE_DB = {\n",
        "    ('CAT-A', 'CAT-A'): 2.0,\n",
        "    ('CAT-B', 'CAT-B'): 0.9,\n",
        "    ('CAT-C', 'CAT-C'): 0.47,\n",
        "    ('CAT-A', 'CAT-B'): 1.3,\n",
        "    ('CAT-B', 'CAT-A'): 1.3,\n",
        "    ('CAT-A', 'CAT-C'): 1.0,\n",
        "    ('CAT-C', 'CAT-A'): 1.0,\n",
        "    ('CAT-B', 'CAT-C'): 0.75,\n",
        "    ('CAT-C', 'CAT-B'): 0.75\n",
        "}"
      ]
    },
    {
      "cell_type": "markdown",
      "metadata": {
        "id": "lqxCgZwGperq"
      },
      "source": [
        "##### Penalizaciones por horario"
      ]
    },
    {
      "cell_type": "markdown",
      "metadata": {
        "id": "h0v46mnwperq"
      },
      "source": [
        "En este caso los índices del diccionario representan los horarios disponibles para los partidos y los valores, las 'penalizaciones' en términos de audiencia que se aplican a cada uno de los casos."
      ]
    },
    {
      "cell_type": "code",
      "execution_count": 4,
      "metadata": {
        "id": "ZRzG7pW2perq"
      },
      "outputs": [],
      "source": [
        "MATCH_DATE_PENALTY_DB = {\n",
        "    'V20': 0.4,\n",
        "    'S12': 0.55,\n",
        "    'S16': 0.7,\n",
        "    'S18': 0.8,\n",
        "    'S20': 1,\n",
        "    'D12': 0.45,\n",
        "    'D16': 0.75,\n",
        "    'D18': 0.85,\n",
        "    'D20': 1,\n",
        "    'L20': 0.4\n",
        "}"
      ]
    },
    {
      "cell_type": "markdown",
      "metadata": {
        "id": "yVOyyyZfperq"
      },
      "source": [
        "##### Penalizaciones por horario repetido"
      ]
    },
    {
      "cell_type": "markdown",
      "metadata": {
        "id": "TeM59flNperr"
      },
      "source": [
        "En este caso los índices representan el número de ocasiones que se repite un mismo horario en una jornada, y los valores las 'penalizaciones' en términos de audiencia que se aplican en cada uno de los casos."
      ]
    },
    {
      "cell_type": "code",
      "execution_count": 5,
      "metadata": {
        "id": "hDTOE5vQperr"
      },
      "outputs": [],
      "source": [
        "SAME_DATE_PENALTY_DB = {\n",
        "    1: 0,\n",
        "    2: 0.25,\n",
        "    3: 0.45,\n",
        "    4: 0.6,\n",
        "    5: 0.7,\n",
        "    6: 0.75,\n",
        "    7: 0.78,\n",
        "    8: 0.8\n",
        "}"
      ]
    },
    {
      "cell_type": "markdown",
      "metadata": {
        "id": "sJV4tgHFperr"
      },
      "source": [
        "#### Función generadora de soluciones iniciales"
      ]
    },
    {
      "cell_type": "markdown",
      "metadata": {
        "id": "IL9Y0Aq7perr"
      },
      "source": [
        "En este apartado se detalla la función que permite generar soluciones aleatorias que se utilizarán como punto de partida del algoritmo."
      ]
    },
    {
      "cell_type": "code",
      "execution_count": 6,
      "metadata": {
        "id": "Yo-2RwYUperr"
      },
      "outputs": [],
      "source": [
        "def generate_match(teams_bag, dates_bag):\n",
        "    \"\"\"\n",
        "    Función que permite generar un objeto de tipo partido\n",
        "    a partir de un conjunto de equipos disponibles y otro\n",
        "    de horarios disponibles.\n",
        "    \"\"\"\n",
        "    # Selección de los equipos que disputarán el partido\n",
        "    team_one = random.choice(list(teams_bag))\n",
        "    team_two = random.choice(list(teams_bag))\n",
        "\n",
        "    if team_one == team_two:\n",
        "        return generate_match(teams_bag, dates_bag)\n",
        "\n",
        "    # Selección del horario del partido\n",
        "    match_date = random.choice(list(dates_bag))\n",
        "\n",
        "    return {\n",
        "        'teams': (team_one, team_two),\n",
        "        'date': match_date\n",
        "    }"
      ]
    },
    {
      "cell_type": "code",
      "execution_count": 7,
      "metadata": {
        "id": "2B7nzkOjperr"
      },
      "outputs": [],
      "source": [
        "def fix_match_week_dates(match_week):\n",
        "    \"\"\"\n",
        "    Función que permite forzar que se respeten las restricciones del problema\n",
        "    en el caso de que la solución inicial generada de forma aleatoria no las\n",
        "    cumpla en su totalidad :\n",
        "    - Un partido tiene que estar programado obligatoriamente el viernes a las 20H\n",
        "    - Otro partido tiene que estar programado obligatoriamente el lunes a las 20H\n",
        "    \"\"\"\n",
        "    # Si en la jornada generada de forma aleatoria no hay partido planificado el viernes,\n",
        "    # lo forzamos\n",
        "    friday_game = list(filter(lambda match: 'V20' == match['date'], match_week))\n",
        "    if not friday_game:\n",
        "        match_week[0]['date'] = 'V20'\n",
        "\n",
        "    # Si en la jornada generada de forma aleatoria no hay partido planificado el lunes,\n",
        "    # lo forzamos\n",
        "    monday_game = list(filter(lambda match: 'L20' == match['date'], match_week))\n",
        "    if not monday_game:\n",
        "        match_week[9]['date'] = 'L20'\n",
        "\n",
        "    return match_week"
      ]
    },
    {
      "cell_type": "code",
      "execution_count": 8,
      "metadata": {
        "id": "B2Mer4nnperr"
      },
      "outputs": [],
      "source": [
        "def generate_random_match_week():\n",
        "    \"\"\"\n",
        "    Función que permite generar una jornada aleatoria que será el punto de partida\n",
        "    del algoritmo de búsqueda\n",
        "    \"\"\"\n",
        "    teams_bag = set(range(1, 21))\n",
        "    dates_bag = {'V20', 'S12', 'S16', 'S18', 'S20', 'D12', 'D16', 'D18', 'D20', 'L20'}\n",
        "    match_week = []\n",
        "\n",
        "    for _ in range(10):\n",
        "        match = generate_match(teams_bag, dates_bag)\n",
        "\n",
        "        # Eliminamos la posibilidad de que se repitan equipos en dos partidos distintos\n",
        "        teams_bag -= set(match['teams'])\n",
        "\n",
        "        # Eliminamos la posibilidad de que haya dos partidos los viernes\n",
        "        if 'V20' == match['date']:\n",
        "            dates_bag -= {'V20'}\n",
        "\n",
        "        # Eliminamos la posibilidad de que haya dos partidos los lunes\n",
        "        if 'L20' == match['date']:\n",
        "            dates_bag -= {'L20'}\n",
        "\n",
        "        # Anadimos el partido a la jornada\n",
        "        match_week.append(match)\n",
        "\n",
        "    return fix_match_week_dates(match_week)"
      ]
    },
    {
      "cell_type": "markdown",
      "metadata": {
        "id": "NVsN-cweperr"
      },
      "source": [
        "#### Función objetivo"
      ]
    },
    {
      "cell_type": "markdown",
      "metadata": {
        "id": "bE6mgP5Npers"
      },
      "source": [
        "En este apartado se detalla la función objetivo del problema que permite calcular la audiencia estimada para una jornada. En este caso se busca *maximizar* dicha función."
      ]
    },
    {
      "cell_type": "code",
      "execution_count": 9,
      "metadata": {
        "id": "buwFdUyFpers"
      },
      "outputs": [],
      "source": [
        "def compute_match_audience(match, stats):\n",
        "    \"\"\"\n",
        "    Función que permite calcular la audiencia estimada para un partido\n",
        "    de acuerdo a la formula siguiente:\n",
        "    audiencia_estimada = audiencia_base * penalizacion_horario * penalizacion_repeticion_horario\n",
        "    \"\"\"\n",
        "    teams = match['teams']\n",
        "    date = match['date']\n",
        "\n",
        "    # Determinemos la audiencia base del partido\n",
        "    base_audience = BASE_AUDIENCE_DB[(TEAMS_DB[teams[0]]['category'], TEAMS_DB[teams[1]]['category'])]\n",
        "\n",
        "    # Determinemos la penalizacion asociada al hecho de que el partido no se retransmite en\n",
        "    # la franja de máxima audiencia\n",
        "    match_date_penalty = MATCH_DATE_PENALTY_DB[date]\n",
        "\n",
        "    # Determinemos la penalizacion asociada al hecho de que (quizas) varios partidos se hayan planificado\n",
        "    # a la misma hora que el que nos ocupa\n",
        "    same_date_penalty = 1 - SAME_DATE_PENALTY_DB[stats.get(date)]\n",
        "\n",
        "    return base_audience * match_date_penalty * same_date_penalty"
      ]
    },
    {
      "cell_type": "code",
      "execution_count": 10,
      "metadata": {
        "id": "ewYMNS4Ppers"
      },
      "outputs": [],
      "source": [
        "def compute_match_week_audience(match_week):\n",
        "    \"\"\"\n",
        "    Función que permite calcular la audiencia estimada para una\n",
        "    jornada completa planificada\n",
        "    \"\"\"\n",
        "    # Contamos el numero de partidos que ocurren en la misma fecha\n",
        "    # Nos servira para determinar una de las penalizaciones\n",
        "    stats = Counter(match['date'] for match in match_week)\n",
        "\n",
        "    # Calculamos la audiencia estimada para la jornada\n",
        "    match_week_audience = 0\n",
        "    match_week_audience_details = {}\n",
        "\n",
        "    for index, match in enumerate(match_week):\n",
        "        audience = compute_match_audience(match, stats)\n",
        "        match_week_audience_details[index] = audience\n",
        "        match_week_audience += audience\n",
        "\n",
        "    return match_week_audience, match_week_audience_details"
      ]
    },
    {
      "cell_type": "markdown",
      "metadata": {
        "id": "E5J6IxZSpers"
      },
      "source": [
        "#### Función de vecindad"
      ]
    },
    {
      "cell_type": "markdown",
      "metadata": {
        "id": "-rgNBa7_pers"
      },
      "source": [
        "En este apartado se detalla la función que permite generar una solución vecina siguiendo los pasos descritos a continuación:\n",
        "1. Se selecciona de forma aleatoria un conjunto de partidos ($m$) de la jornada y se extrae la lista de equipos y los horarios.\n",
        "2. Se generan, de forma aleatoria, nuevos enfrentamientos entre esos $2m$ equipos\n",
        "3. Se asigna, de forma aleatoria, un horario a esos nuevos $m$ enfrentamientos"
      ]
    },
    {
      "cell_type": "markdown",
      "metadata": {
        "id": "NRsNi79apers"
      },
      "source": [
        "Se intenta ahora aproximar el número de vecinos que es posible generar utilizando el algoritmo descrito previamente.\n",
        "\n",
        "El número de nuevos enfrentamientos es:\n",
        "$$\n",
        "    C^{2}_{2m}C^{2}_{2m-2} \\dots C^{2}_{2}=\\frac{(2m)!}{2(2m-2)!}\\frac{(2m-2)!}{2(2m-4)!}\\frac{(2m-4)!}{2(2m-6)!} \\dots \\ \\frac{2}{2.0!}=\\frac{(2m)!}{2^{m}}\n",
        "$$\n",
        "\n",
        "Si, por simplicidad, se supone que no hay horarios repetidos en la lista extraida de la solución de partida, el número de asignaciones posibles es $m!$\n",
        "\n",
        "El número de soluciones vecinas que es posible generar a partir de la de partida es pues de\n",
        "$$\n",
        "m!\\frac{(2m)!}{2^{m}}\n",
        "$$"
      ]
    },
    {
      "cell_type": "markdown",
      "metadata": {
        "id": "3mWfxODppers"
      },
      "source": [
        "En el código se toma como valor por defecto $m=4$ lo que equivale a $60480$ posibles soluciones, un vecindario que sigue siendo \"pequeño\" si se compara con el espacio de soluciones del problema."
      ]
    },
    {
      "cell_type": "code",
      "execution_count": 11,
      "metadata": {
        "id": "wZva7rAwpert"
      },
      "outputs": [],
      "source": [
        "def shuffle_match_list(match_list):\n",
        "    \"\"\"\n",
        "    Función que permite mezclar los partidos de una lista\n",
        "    (Esta puede corresponder a una jornada entera o a una porción de ella)\n",
        "    \"\"\"\n",
        "    dates_bag = [match['date'] for match in match_list]\n",
        "    teams_bag = [team for match in match_list for team in match['teams']]\n",
        "\n",
        "    output = []\n",
        "    for _ in range(len(match_list)):\n",
        "        # Seleccionemos una fecha para el partido\n",
        "        date = dates_bag.pop(random.randrange(len(dates_bag)))\n",
        "\n",
        "        # Seleccionamos los equipos\n",
        "        team_a = teams_bag.pop(random.randrange(len(teams_bag)))\n",
        "        team_b = teams_bag.pop(random.randrange(len(teams_bag)))\n",
        "\n",
        "        output.append({\n",
        "            'date': date,\n",
        "            'teams': (team_a, team_b)\n",
        "        })\n",
        "\n",
        "    return output"
      ]
    },
    {
      "cell_type": "code",
      "execution_count": 12,
      "metadata": {
        "id": "6lnyGz9Apert"
      },
      "outputs": [],
      "source": [
        "def get_indices_to_shuffle(match_week, shuffle_ratio=0.4):\n",
        "    \"\"\"\n",
        "    Función que permite determinar, dada una jornada y un porcentaje de mezcla,\n",
        "    los elementos a mezclar para obtener una nueva jornada vecina\n",
        "    \"\"\"\n",
        "    indices = set()\n",
        "    items = len(match_week)\n",
        "    items_to_extract = math.floor(items * shuffle_ratio)\n",
        "\n",
        "    while len(indices) < items_to_extract:\n",
        "        indices.add(random.randrange(items))\n",
        "\n",
        "    return list(indices)"
      ]
    },
    {
      "cell_type": "code",
      "execution_count": 13,
      "metadata": {
        "id": "0fnEc7orpert"
      },
      "outputs": [],
      "source": [
        "def shuffle_neighbor_generator(match_week, shuffle_ratio=0.4):\n",
        "    \"\"\"\n",
        "    Función que permite generar una jornada vecina\n",
        "    a partir de una solución y dado un porcentaje de mezcla\n",
        "    \"\"\"\n",
        "    # Separamos la lista de partidos en dos partes, una la mezclaremos\n",
        "    # y la otra la dejaremos intacta\n",
        "    indices = get_indices_to_shuffle(match_week, shuffle_ratio)\n",
        "    hold_out_list = []\n",
        "    to_shuffle_list = []\n",
        "\n",
        "    for index, match in enumerate(match_week):\n",
        "        if index in indices:\n",
        "            to_shuffle_list.append(match)\n",
        "        else:\n",
        "            hold_out_list.append(match)\n",
        "\n",
        "    # Retornamos la nueva jornada generada\n",
        "    shuffled_list = shuffle_match_list(to_shuffle_list)\n",
        "    return hold_out_list + shuffled_list"
      ]
    },
    {
      "cell_type": "markdown",
      "metadata": {
        "id": "8uEXLVGGpert"
      },
      "source": [
        "#### Función de búsqueda (Simulated Annealing)"
      ]
    },
    {
      "cell_type": "code",
      "execution_count": 14,
      "metadata": {
        "id": "glJRo6E6pert"
      },
      "outputs": [],
      "source": [
        "def simulated_annealing_search(initial_solution, shuffle_ratio=0.4):\n",
        "    \"\"\"\n",
        "    Algoritmo Simulated Annealing\n",
        "    \"\"\"\n",
        "    # -- Guarda la solución inicial como la actual y la mejor hasta el momento --\n",
        "    current_match_week = initial_solution\n",
        "    current_audience, _ = compute_match_week_audience(initial_solution)\n",
        "    best_match_week = initial_solution\n",
        "    best_audience, _ = compute_match_week_audience(initial_solution)\n",
        "\n",
        "    # -- Fijamos los parámetros del algoritmo --\n",
        "    # Temperatura T\n",
        "    temperature = current_audience * 0.3\n",
        "    # Velocidad de enfriamiento alfa\n",
        "    alpha = 0.9\n",
        "    # El parámetro l determina el tiempo que decidimos quedarnos a un mismo nivel de temperatura\n",
        "    l = 10000\n",
        "\n",
        "    while temperature > 0.01:\n",
        "        for _ in range(l):\n",
        "            neighbor_match_week = shuffle_neighbor_generator(current_match_week, shuffle_ratio)\n",
        "            neighbor_audience, _ = compute_match_week_audience(neighbor_match_week)\n",
        "\n",
        "            # Si encontramos una solución de mejor calidad que la que teniamos guardada como \"best\"\n",
        "            # nos la quedamos (obviamente)\n",
        "            if neighbor_audience > best_audience:\n",
        "                current_match_week = neighbor_match_week\n",
        "                current_audience = neighbor_audience\n",
        "                best_match_week = neighbor_match_week\n",
        "                best_audience = neighbor_audience\n",
        "                continue\n",
        "\n",
        "            # Si la solución es de mejor calidad que la actual, nos la quedamos\n",
        "            if neighbor_audience > current_audience:\n",
        "                current_match_week = neighbor_match_week\n",
        "                current_audience = neighbor_audience\n",
        "                continue\n",
        "\n",
        "            # Si la solución es de peor calidad que la actual, determinemos la probabilidad de quedarnosla\n",
        "            delta = abs(neighbor_audience - current_audience)\n",
        "            probability = math.exp(-1 * (delta / temperature))\n",
        "            if random.random() < probability:\n",
        "                current_match_week = neighbor_match_week\n",
        "                current_audience = neighbor_audience\n",
        "                continue\n",
        "\n",
        "        # Descender la temperatura\n",
        "        temperature *= alpha\n",
        "\n",
        "    # Retornar la mejor solución encontrada\n",
        "    return best_match_week, best_audience"
      ]
    },
    {
      "cell_type": "markdown",
      "metadata": {
        "id": "_ZL7dUrHpert"
      },
      "source": [
        "#### Algoritmo de búsqueda (Simuleated annealing con multiarranque)"
      ]
    },
    {
      "cell_type": "code",
      "execution_count": 15,
      "metadata": {
        "id": "7pRSajBOpert"
      },
      "outputs": [],
      "source": [
        "def search_algorithm(instances=10):\n",
        "    \"\"\"\n",
        "    Algoritmo de búsqueda\n",
        "    \"\"\"\n",
        "    audiences = []\n",
        "    solutions = []\n",
        "    for _ in range(instances):\n",
        "        initial_solution = generate_random_match_week()\n",
        "        match_week, audience = simulated_annealing_search(initial_solution, shuffle_ratio=0.4)\n",
        "        solutions.append(match_week)\n",
        "        audiences.append(audience)\n",
        "\n",
        "    best_audience = max(audiences)\n",
        "    best_match_week = solutions[audiences.index(best_audience)]\n",
        "    return best_audience, best_match_week"
      ]
    },
    {
      "cell_type": "code",
      "execution_count": 16,
      "metadata": {
        "colab": {
          "base_uri": "https://localhost:8080/"
        },
        "id": "NttFj1w3peru",
        "outputId": "dcfb342c-ad93-4a5f-bb84-f8f7704fe4da"
      },
      "outputs": [
        {
          "output_type": "stream",
          "name": "stdout",
          "text": [
            "Mejor audiencia: 6.945 (en 179.26 segundos)\n",
            "[{'date': 'L20', 'teams': (5, 17)},\n",
            " {'date': 'D12', 'teams': (19, 11)},\n",
            " {'date': 'S18', 'teams': (13, 16)},\n",
            " {'date': 'S16', 'teams': (7, 10)},\n",
            " {'date': 'S12', 'teams': (9, 20)},\n",
            " {'date': 'V20', 'teams': (15, 4)},\n",
            " {'date': 'D18', 'teams': (12, 6)},\n",
            " {'date': 'D20', 'teams': (8, 2)},\n",
            " {'date': 'S20', 'teams': (1, 3)},\n",
            " {'date': 'S18', 'teams': (14, 18)}]\n"
          ]
        }
      ],
      "source": [
        "# Lanzamos el algoritmo para ver como se comporta\n",
        "# Para 10 ejecuciones tarda aproximadamente 2 minutos\n",
        "tic = time.time()\n",
        "best_audience, best_match_week = search_algorithm()\n",
        "toc = time.time()\n",
        "\n",
        "print(f\"Mejor audiencia: {round(best_audience, 4)} (en {round(toc-tic, 2)} segundos)\")\n",
        "pp.pprint(best_match_week)"
      ]
    }
  ],
  "metadata": {
    "colab": {
      "provenance": [],
      "include_colab_link": true
    },
    "kernelspec": {
      "display_name": "Python 3 (ipykernel)",
      "language": "python",
      "name": "python3"
    },
    "language_info": {
      "codemirror_mode": {
        "name": "ipython",
        "version": 3
      },
      "file_extension": ".py",
      "mimetype": "text/x-python",
      "name": "python",
      "nbconvert_exporter": "python",
      "pygments_lexer": "ipython3",
      "version": "3.11.7"
    }
  },
  "nbformat": 4,
  "nbformat_minor": 0
}